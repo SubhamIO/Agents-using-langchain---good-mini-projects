{
 "cells": [
  {
   "cell_type": "markdown",
   "metadata": {
    "id": "TVraWpDTW8i0"
   },
   "source": [
    "# Prompting with Prompt Templates for LLM Input / Output with LangChain"
   ]
  },
  {
   "cell_type": "markdown",
   "metadata": {
    "id": "L1KvMtf54l0d"
   },
   "source": [
    "## Install OpenAI, HuggingFace and LangChain dependencies"
   ]
  },
  {
   "cell_type": "code",
   "execution_count": 1,
   "metadata": {
    "colab": {
     "base_uri": "https://localhost:8080/"
    },
    "collapsed": true,
    "id": "N_cdzB8v0o3O",
    "jupyter": {
     "outputs_hidden": true
    },
    "outputId": "607d17a6-97de-4e44-ec6a-1403faf0f5e4"
   },
   "outputs": [
    {
     "name": "stdout",
     "output_type": "stream",
     "text": [
      "\u001b[31mERROR: Could not find a version that satisfies the requirement langchain==0.3.21 (from versions: 0.0.1, 0.0.2, 0.0.3, 0.0.4, 0.0.5, 0.0.6, 0.0.7, 0.0.8, 0.0.9, 0.0.10, 0.0.11, 0.0.12, 0.0.13, 0.0.14, 0.0.15, 0.0.16, 0.0.17, 0.0.18, 0.0.19, 0.0.20, 0.0.21, 0.0.22, 0.0.23, 0.0.24, 0.0.25, 0.0.26, 0.0.27, 0.0.28, 0.0.29, 0.0.30, 0.0.31, 0.0.32, 0.0.33, 0.0.34, 0.0.35, 0.0.36, 0.0.37, 0.0.38, 0.0.39, 0.0.40, 0.0.41, 0.0.42, 0.0.43, 0.0.44, 0.0.45, 0.0.46, 0.0.47, 0.0.48, 0.0.49, 0.0.50, 0.0.51, 0.0.52, 0.0.53, 0.0.54, 0.0.55, 0.0.56, 0.0.57, 0.0.58, 0.0.59, 0.0.60, 0.0.61, 0.0.63, 0.0.64, 0.0.65, 0.0.66, 0.0.67, 0.0.68, 0.0.69, 0.0.70, 0.0.71, 0.0.72, 0.0.73, 0.0.74, 0.0.75, 0.0.76, 0.0.77, 0.0.78, 0.0.79, 0.0.80, 0.0.81, 0.0.82, 0.0.83, 0.0.84, 0.0.85, 0.0.86, 0.0.87, 0.0.88, 0.0.89, 0.0.90, 0.0.91, 0.0.92, 0.0.93, 0.0.94, 0.0.95, 0.0.96, 0.0.97, 0.0.98, 0.0.99rc0, 0.0.99, 0.0.100, 0.0.101rc0, 0.0.101, 0.0.102rc0, 0.0.102, 0.0.103, 0.0.104, 0.0.105, 0.0.106, 0.0.107, 0.0.108, 0.0.109, 0.0.110, 0.0.111, 0.0.112, 0.0.113, 0.0.114, 0.0.115, 0.0.116, 0.0.117, 0.0.118, 0.0.119, 0.0.120, 0.0.121, 0.0.122, 0.0.123, 0.0.124, 0.0.125, 0.0.126, 0.0.127, 0.0.128, 0.0.129, 0.0.130, 0.0.131, 0.0.132, 0.0.133, 0.0.134, 0.0.135, 0.0.136, 0.0.137, 0.0.138, 0.0.139, 0.0.140, 0.0.141, 0.0.142, 0.0.143, 0.0.144, 0.0.145, 0.0.146, 0.0.147, 0.0.148, 0.0.149, 0.0.150, 0.0.151, 0.0.152, 0.0.153, 0.0.154, 0.0.155, 0.0.156, 0.0.157, 0.0.158, 0.0.159, 0.0.160, 0.0.161, 0.0.162, 0.0.163, 0.0.164, 0.0.165, 0.0.166, 0.0.167, 0.0.168, 0.0.169, 0.0.170, 0.0.171, 0.0.172, 0.0.173, 0.0.174, 0.0.175, 0.0.176, 0.0.177, 0.0.178, 0.0.179, 0.0.180, 0.0.181, 0.0.182, 0.0.183, 0.0.184, 0.0.185, 0.0.186, 0.0.187, 0.0.188, 0.0.189, 0.0.190, 0.0.191, 0.0.192, 0.0.193, 0.0.194, 0.0.195, 0.0.196, 0.0.197, 0.0.198, 0.0.199, 0.0.200, 0.0.201, 0.0.202, 0.0.203, 0.0.204, 0.0.205, 0.0.206, 0.0.207, 0.0.208, 0.0.209, 0.0.210, 0.0.211, 0.0.212, 0.0.213, 0.0.214, 0.0.215, 0.0.216, 0.0.217, 0.0.218, 0.0.219, 0.0.220, 0.0.221, 0.0.222, 0.0.223, 0.0.224, 0.0.225, 0.0.226, 0.0.227, 0.0.228, 0.0.229, 0.0.230, 0.0.231, 0.0.232, 0.0.233, 0.0.234, 0.0.235, 0.0.236, 0.0.237, 0.0.238, 0.0.239, 0.0.240rc0, 0.0.240rc1, 0.0.240rc4, 0.0.240, 0.0.242, 0.0.243, 0.0.244, 0.0.245, 0.0.246, 0.0.247, 0.0.248, 0.0.249, 0.0.250, 0.0.251, 0.0.252, 0.0.253, 0.0.254, 0.0.255, 0.0.256, 0.0.257, 0.0.258, 0.0.259, 0.0.260, 0.0.261, 0.0.262, 0.0.263, 0.0.264, 0.0.265, 0.0.266, 0.0.267, 0.0.268, 0.0.269, 0.0.270, 0.0.271, 0.0.272, 0.0.273, 0.0.274, 0.0.275, 0.0.276, 0.0.277, 0.0.278, 0.0.279, 0.0.281, 0.0.283, 0.0.284, 0.0.285, 0.0.286, 0.0.287, 0.0.288, 0.0.289, 0.0.290, 0.0.291, 0.0.292, 0.0.293, 0.0.294, 0.0.295, 0.0.296, 0.0.297, 0.0.298, 0.0.299, 0.0.300, 0.0.301, 0.0.302, 0.0.303, 0.0.304, 0.0.305, 0.0.306, 0.0.307, 0.0.308, 0.0.309, 0.0.310, 0.0.311, 0.0.312, 0.0.313, 0.0.314, 0.0.315, 0.0.316, 0.0.317, 0.0.318, 0.0.319, 0.0.320, 0.0.321, 0.0.322, 0.0.323, 0.0.324, 0.0.325, 0.0.326, 0.0.327, 0.0.329, 0.0.330, 0.0.331rc0, 0.0.331rc1, 0.0.331rc2, 0.0.331rc3, 0.0.331, 0.0.332, 0.0.333, 0.0.334, 0.0.335, 0.0.336, 0.0.337, 0.0.338, 0.0.339rc0, 0.0.339rc1, 0.0.339rc2, 0.0.339rc3, 0.0.339, 0.0.340, 0.0.341, 0.0.342, 0.0.343, 0.0.344, 0.0.345, 0.0.346, 0.0.347, 0.0.348, 0.0.349rc1, 0.0.349rc2, 0.0.349, 0.0.350, 0.0.351, 0.0.352, 0.0.353, 0.0.354, 0.1.0, 0.1.1, 0.1.2, 0.1.3, 0.1.4, 0.1.5, 0.1.6, 0.1.7, 0.1.8, 0.1.9, 0.1.10, 0.1.11, 0.1.12, 0.1.13, 0.1.14, 0.1.15, 0.1.16, 0.1.17rc1, 0.1.17, 0.1.19, 0.1.20, 0.2.0rc1, 0.2.0rc2, 0.2.0, 0.2.1, 0.2.2, 0.2.3, 0.2.4, 0.2.5, 0.2.6, 0.2.7, 0.2.8, 0.2.9, 0.2.10, 0.2.11, 0.2.12, 0.2.13, 0.2.14, 0.2.15, 0.2.16, 0.2.17)\u001b[0m\n",
      "\u001b[31mERROR: No matching distribution found for langchain==0.3.21\u001b[0m\n",
      "\u001b[31mERROR: Could not find a version that satisfies the requirement langchain-openai==0.3.9 (from versions: 0.0.1rc0, 0.0.1rc1, 0.0.1, 0.0.2, 0.0.2.post1, 0.0.3, 0.0.4, 0.0.5, 0.0.6, 0.0.7, 0.0.8rc1, 0.0.8, 0.1.0, 0.1.1, 0.1.2, 0.1.3rc1, 0.1.3, 0.1.4, 0.1.5, 0.1.6, 0.1.7, 0.1.8rc1, 0.1.8, 0.1.9, 0.1.10, 0.1.11, 0.1.12, 0.1.13, 0.1.14, 0.1.15, 0.1.16, 0.1.17, 0.1.19, 0.1.20, 0.1.21rc1, 0.1.21rc2, 0.1.21, 0.1.22, 0.1.23, 0.1.24, 0.1.25)\u001b[0m\n",
      "\u001b[31mERROR: No matching distribution found for langchain-openai==0.3.9\u001b[0m\n",
      "\u001b[31mERROR: Could not find a version that satisfies the requirement langchain-community==0.3.19 (from versions: 0.0.1rc1, 0.0.1rc2, 0.0.1, 0.0.2, 0.0.3, 0.0.4, 0.0.5, 0.0.6, 0.0.7, 0.0.8, 0.0.9, 0.0.10, 0.0.11, 0.0.12, 0.0.13, 0.0.14, 0.0.15, 0.0.16, 0.0.17, 0.0.18, 0.0.19, 0.0.20, 0.0.21, 0.0.22, 0.0.23, 0.0.24, 0.0.25, 0.0.26, 0.0.27, 0.0.28, 0.0.29, 0.0.30, 0.0.31, 0.0.32, 0.0.33, 0.0.34, 0.0.35, 0.0.36, 0.0.37, 0.0.38, 0.2.0rc1, 0.2.0, 0.2.1, 0.2.2, 0.2.3, 0.2.4, 0.2.5, 0.2.6, 0.2.7, 0.2.9, 0.2.10, 0.2.11, 0.2.12, 0.2.13, 0.2.14, 0.2.15, 0.2.16, 0.2.17, 0.2.18, 0.2.19)\u001b[0m\n",
      "\u001b[31mERROR: No matching distribution found for langchain-community==0.3.19\u001b[0m\n"
     ]
    }
   ],
   "source": [
    "# Updated package versions for compatibility:\n",
    "!pip install langchain==0.3.21\n",
    "!pip install langchain-openai==0.3.9\n",
    "!pip install langchain-community==0.3.19"
   ]
  },
  {
   "cell_type": "markdown",
   "metadata": {
    "id": "PtBa7rlWJWH3"
   },
   "source": [
    "## Enter API Tokens"
   ]
  },
  {
   "cell_type": "markdown",
   "metadata": {
    "id": "Y6RD7As2sm8G"
   },
   "source": [
    "#### Enter your Open AI Key here\n",
    "\n",
    "You can get the key from [here](https://platform.openai.com/api-keys) after creating an account or signing in"
   ]
  },
  {
   "cell_type": "code",
   "execution_count": null,
   "metadata": {
    "collapsed": true,
    "id": "JQcY7Kew0o3Q",
    "jupyter": {
     "outputs_hidden": true
    }
   },
   "outputs": [],
   "source": [
    "from getpass import getpass\n",
    "\n",
    "OPENAI_KEY = getpass('Enter Open AI API Key: ')"
   ]
  },
  {
   "cell_type": "code",
   "execution_count": null,
   "metadata": {
    "collapsed": true,
    "id": "cKlax-updNW-",
    "jupyter": {
     "outputs_hidden": true
    }
   },
   "outputs": [],
   "source": [
    "import os\n",
    "\n",
    "os.environ['OPENAI_API_KEY'] = OPENAI_KEY"
   ]
  },
  {
   "cell_type": "markdown",
   "metadata": {
    "id": "_4h0xywyJ3v7"
   },
   "source": [
    "## Chat Models and LLMs\n",
    "\n",
    "Large Language Models (LLMs) are a core component of LangChain. LangChain does not implement or build its own LLMs. It provides a standard API for interacting with almost every LLM out there.\n",
    "\n",
    "There are lots of LLM providers (OpenAI, Hugging Face, etc) - the LLM class is designed to provide a standard interface for all of them."
   ]
  },
  {
   "cell_type": "markdown",
   "metadata": {
    "id": "cSdF6_R7J45Z"
   },
   "source": [
    "## Accessing Commercial LLMs like ChatGPT"
   ]
  },
  {
   "cell_type": "code",
   "execution_count": 2,
   "metadata": {
    "colab": {
     "base_uri": "https://localhost:8080/",
     "height": 373
    },
    "collapsed": true,
    "id": "v8nnrOGxZ2uZ",
    "jupyter": {
     "outputs_hidden": true
    },
    "outputId": "f391db1f-bab3-4a3f-cc8e-ea2770e007a2"
   },
   "outputs": [
    {
     "ename": "OpenAIError",
     "evalue": "The api_key client option must be set either by passing api_key to the client or by setting the OPENAI_API_KEY environment variable",
     "output_type": "error",
     "traceback": [
      "\u001b[0;31m---------------------------------------------------------------------------\u001b[0m",
      "\u001b[0;31mOpenAIError\u001b[0m                               Traceback (most recent call last)",
      "\u001b[0;32m<ipython-input-2-6e5bfdb9a37e>\u001b[0m in \u001b[0;36m<cell line: 0>\u001b[0;34m()\u001b[0m\n\u001b[1;32m      1\u001b[0m \u001b[0;32mfrom\u001b[0m \u001b[0mlangchain_openai\u001b[0m \u001b[0;32mimport\u001b[0m \u001b[0mChatOpenAI\u001b[0m\u001b[0;34m\u001b[0m\u001b[0;34m\u001b[0m\u001b[0m\n\u001b[1;32m      2\u001b[0m \u001b[0;34m\u001b[0m\u001b[0m\n\u001b[0;32m----> 3\u001b[0;31m \u001b[0mchatgpt\u001b[0m \u001b[0;34m=\u001b[0m \u001b[0mChatOpenAI\u001b[0m\u001b[0;34m(\u001b[0m\u001b[0mmodel\u001b[0m\u001b[0;34m=\u001b[0m\u001b[0;34m\"gpt-4o-mini\"\u001b[0m\u001b[0;34m,\u001b[0m \u001b[0mtemperature\u001b[0m\u001b[0;34m=\u001b[0m\u001b[0;36m0\u001b[0m\u001b[0;34m)\u001b[0m\u001b[0;34m\u001b[0m\u001b[0;34m\u001b[0m\u001b[0m\n\u001b[0m",
      "\u001b[0;32m/usr/local/lib/python3.11/dist-packages/langchain_core/load/serializable.py\u001b[0m in \u001b[0;36m__init__\u001b[0;34m(self, *args, **kwargs)\u001b[0m\n\u001b[1;32m    123\u001b[0m     \u001b[0;32mdef\u001b[0m \u001b[0m__init__\u001b[0m\u001b[0;34m(\u001b[0m\u001b[0mself\u001b[0m\u001b[0;34m,\u001b[0m \u001b[0;34m*\u001b[0m\u001b[0margs\u001b[0m\u001b[0;34m:\u001b[0m \u001b[0mAny\u001b[0m\u001b[0;34m,\u001b[0m \u001b[0;34m**\u001b[0m\u001b[0mkwargs\u001b[0m\u001b[0;34m:\u001b[0m \u001b[0mAny\u001b[0m\u001b[0;34m)\u001b[0m \u001b[0;34m->\u001b[0m \u001b[0;32mNone\u001b[0m\u001b[0;34m:\u001b[0m\u001b[0;34m\u001b[0m\u001b[0;34m\u001b[0m\u001b[0m\n\u001b[1;32m    124\u001b[0m         \u001b[0;34m\"\"\"\"\"\"\u001b[0m\u001b[0;34m\u001b[0m\u001b[0;34m\u001b[0m\u001b[0m\n\u001b[0;32m--> 125\u001b[0;31m         \u001b[0msuper\u001b[0m\u001b[0;34m(\u001b[0m\u001b[0;34m)\u001b[0m\u001b[0;34m.\u001b[0m\u001b[0m__init__\u001b[0m\u001b[0;34m(\u001b[0m\u001b[0;34m*\u001b[0m\u001b[0margs\u001b[0m\u001b[0;34m,\u001b[0m \u001b[0;34m**\u001b[0m\u001b[0mkwargs\u001b[0m\u001b[0;34m)\u001b[0m\u001b[0;34m\u001b[0m\u001b[0;34m\u001b[0m\u001b[0m\n\u001b[0m\u001b[1;32m    126\u001b[0m \u001b[0;34m\u001b[0m\u001b[0m\n\u001b[1;32m    127\u001b[0m     \u001b[0;34m@\u001b[0m\u001b[0mclassmethod\u001b[0m\u001b[0;34m\u001b[0m\u001b[0;34m\u001b[0m\u001b[0m\n",
      "    \u001b[0;31m[... skipping hidden 1 frame]\u001b[0m\n",
      "\u001b[0;32m/usr/local/lib/python3.11/dist-packages/langchain_openai/chat_models/base.py\u001b[0m in \u001b[0;36mvalidate_environment\u001b[0;34m(self)\u001b[0m\n\u001b[1;32m    614\u001b[0m                 )\n\u001b[1;32m    615\u001b[0m             \u001b[0msync_specific\u001b[0m \u001b[0;34m=\u001b[0m \u001b[0;34m{\u001b[0m\u001b[0;34m\"http_client\"\u001b[0m\u001b[0;34m:\u001b[0m \u001b[0mself\u001b[0m\u001b[0;34m.\u001b[0m\u001b[0mhttp_client\u001b[0m\u001b[0;34m}\u001b[0m\u001b[0;34m\u001b[0m\u001b[0;34m\u001b[0m\u001b[0m\n\u001b[0;32m--> 616\u001b[0;31m             \u001b[0mself\u001b[0m\u001b[0;34m.\u001b[0m\u001b[0mroot_client\u001b[0m \u001b[0;34m=\u001b[0m \u001b[0mopenai\u001b[0m\u001b[0;34m.\u001b[0m\u001b[0mOpenAI\u001b[0m\u001b[0;34m(\u001b[0m\u001b[0;34m**\u001b[0m\u001b[0mclient_params\u001b[0m\u001b[0;34m,\u001b[0m \u001b[0;34m**\u001b[0m\u001b[0msync_specific\u001b[0m\u001b[0;34m)\u001b[0m  \u001b[0;31m# type: ignore[arg-type]\u001b[0m\u001b[0;34m\u001b[0m\u001b[0;34m\u001b[0m\u001b[0m\n\u001b[0m\u001b[1;32m    617\u001b[0m             \u001b[0mself\u001b[0m\u001b[0;34m.\u001b[0m\u001b[0mclient\u001b[0m \u001b[0;34m=\u001b[0m \u001b[0mself\u001b[0m\u001b[0;34m.\u001b[0m\u001b[0mroot_client\u001b[0m\u001b[0;34m.\u001b[0m\u001b[0mchat\u001b[0m\u001b[0;34m.\u001b[0m\u001b[0mcompletions\u001b[0m\u001b[0;34m\u001b[0m\u001b[0;34m\u001b[0m\u001b[0m\n\u001b[1;32m    618\u001b[0m         \u001b[0;32mif\u001b[0m \u001b[0;32mnot\u001b[0m \u001b[0mself\u001b[0m\u001b[0;34m.\u001b[0m\u001b[0masync_client\u001b[0m\u001b[0;34m:\u001b[0m\u001b[0;34m\u001b[0m\u001b[0;34m\u001b[0m\u001b[0m\n",
      "\u001b[0;32m/usr/local/lib/python3.11/dist-packages/openai/_client.py\u001b[0m in \u001b[0;36m__init__\u001b[0;34m(self, api_key, organization, project, base_url, websocket_base_url, timeout, max_retries, default_headers, default_query, http_client, _strict_response_validation)\u001b[0m\n\u001b[1;32m    112\u001b[0m             \u001b[0mapi_key\u001b[0m \u001b[0;34m=\u001b[0m \u001b[0mos\u001b[0m\u001b[0;34m.\u001b[0m\u001b[0menviron\u001b[0m\u001b[0;34m.\u001b[0m\u001b[0mget\u001b[0m\u001b[0;34m(\u001b[0m\u001b[0;34m\"OPENAI_API_KEY\"\u001b[0m\u001b[0;34m)\u001b[0m\u001b[0;34m\u001b[0m\u001b[0;34m\u001b[0m\u001b[0m\n\u001b[1;32m    113\u001b[0m         \u001b[0;32mif\u001b[0m \u001b[0mapi_key\u001b[0m \u001b[0;32mis\u001b[0m \u001b[0;32mNone\u001b[0m\u001b[0;34m:\u001b[0m\u001b[0;34m\u001b[0m\u001b[0;34m\u001b[0m\u001b[0m\n\u001b[0;32m--> 114\u001b[0;31m             raise OpenAIError(\n\u001b[0m\u001b[1;32m    115\u001b[0m                 \u001b[0;34m\"The api_key client option must be set either by passing api_key to the client or by setting the OPENAI_API_KEY environment variable\"\u001b[0m\u001b[0;34m\u001b[0m\u001b[0;34m\u001b[0m\u001b[0m\n\u001b[1;32m    116\u001b[0m             )\n",
      "\u001b[0;31mOpenAIError\u001b[0m: The api_key client option must be set either by passing api_key to the client or by setting the OPENAI_API_KEY environment variable"
     ]
    }
   ],
   "source": [
    "from langchain_openai import ChatOpenAI\n",
    "\n",
    "# Updated parameter name from model_name to model:\n",
    "chatgpt = ChatOpenAI(model=\"gpt-4o-mini\", temperature=0)"
   ]
  },
  {
   "cell_type": "markdown",
   "metadata": {
    "id": "8i8KIVTwnD6Y"
   },
   "source": [
    "## Prompt Templates\n",
    "Prompt templates are pre-designed formats used to generate prompts for language models. These templates can include instructions, few-shot examples, and specific contexts and questions suited for particular tasks.\n",
    "\n",
    "LangChain provides tools for creating and using prompt templates. It aims to develop model-agnostic templates to facilitate the reuse of existing templates across different language models. Typically, these models expect prompts in the form of either a string or a list of chat messages.\n",
    "\n",
    "### Types of Prompt Templates\n",
    "\n",
    "- **PromptTemplate:**\n",
    "  - Used for creating string-based prompts.\n",
    "  - Utilizes Python's `str.format` syntax for templating, supporting any number of variables, including scenarios with no variables.\n",
    "\n",
    "- **ChatPromptTemplate:**\n",
    "  - Designed for chat models, where the prompt consists of a list of chat messages.\n",
    "  - Each chat message includes content and a role parameter. For instance, in the OpenAI Chat Completions API, a chat message could be assigned to an AI assistant, a human, or a system role.\n",
    "- **FewShotChatMessagePromptTemplate**\n",
    "  - A few-shot prompt template can be constructed from a set of examples\n"
   ]
  },
  {
   "cell_type": "markdown",
   "metadata": {
    "id": "7Oh9UiTNqaPf"
   },
   "source": [
    "### PromptTemplate\n",
    "\n",
    "We can use `PromptTemplate` to create a template for a string prompt.\n",
    "\n",
    "By default, `PromptTemplate` uses Python's `str.format` syntax for templating.\n",
    "\n",
    "You can create custom prompt templates that format the prompt in any way you want. For more information, see [Prompt Template Composition](https://python.langchain.com/v0.1/docs/modules/model_io/prompts/composition/)."
   ]
  },
  {
   "cell_type": "code",
   "execution_count": null,
   "metadata": {
    "colab": {
     "base_uri": "https://localhost:8080/"
    },
    "collapsed": true,
    "id": "xoUCbb4FkaIW",
    "jupyter": {
     "outputs_hidden": true
    },
    "outputId": "2f255135-a1b7-415c-ee72-a284ac2da032"
   },
   "outputs": [
    {
     "data": {
      "text/plain": [
       "PromptTemplate(input_variables=[], input_types={}, partial_variables={}, template='Explain to me what is Generative AI in 3 bullet points?')"
      ]
     },
     "execution_count": 7,
     "metadata": {},
     "output_type": "execute_result"
    }
   ],
   "source": [
    "from langchain.prompts import PromptTemplate\n",
    "\n",
    "# Simple prompt\n",
    "\n",
    "prompt = \"\"\"Explain to me what is Generative AI in 3 bullet points?\"\"\"\n",
    "prompt_template = PromptTemplate.from_template(prompt)\n",
    "prompt_template"
   ]
  },
  {
   "cell_type": "code",
   "execution_count": null,
   "metadata": {
    "colab": {
     "base_uri": "https://localhost:8080/",
     "height": 35
    },
    "collapsed": true,
    "id": "nPNs1Efsn2Zf",
    "jupyter": {
     "outputs_hidden": true
    },
    "outputId": "447ac1d7-db90-46dd-e07c-3c1fe7e7dc97"
   },
   "outputs": [
    {
     "data": {
      "text/plain": [
       "'Explain to me what is Generative AI in 3 bullet points?'"
      ]
     },
     "execution_count": 8,
     "metadata": {},
     "output_type": "execute_result"
    }
   ],
   "source": [
    "prompt_template.format()"
   ]
  },
  {
   "cell_type": "code",
   "execution_count": null,
   "metadata": {
    "colab": {
     "base_uri": "https://localhost:8080/"
    },
    "collapsed": true,
    "id": "iM5oNvXpnSq7",
    "jupyter": {
     "outputs_hidden": true
    },
    "outputId": "31946dc3-313f-45da-d756-171fe6457af3"
   },
   "outputs": [
    {
     "name": "stdout",
     "output_type": "stream",
     "text": [
      "- **Definition**: Generative AI refers to a class of artificial intelligence models that can create new content, such as text, images, music, or videos, by learning patterns and structures from existing data.\n",
      "\n",
      "- **Techniques**: It often employs advanced techniques like deep learning, particularly neural networks such as Generative Adversarial Networks (GANs) and Transformer models, to generate high-quality and coherent outputs.\n",
      "\n",
      "- **Applications**: Generative AI is used in various fields, including creative arts (e.g., art and music generation), content creation (e.g., writing and summarization), and even in practical applications like drug discovery and game design.\n"
     ]
    }
   ],
   "source": [
    "response = chatgpt.invoke(prompt_template.format())\n",
    "print(response.content)"
   ]
  },
  {
   "cell_type": "code",
   "execution_count": null,
   "metadata": {
    "colab": {
     "base_uri": "https://localhost:8080/"
    },
    "collapsed": true,
    "id": "2VTvciVcnajD",
    "jupyter": {
     "outputs_hidden": true
    },
    "outputId": "48497e6c-a1d6-4eae-e5a4-8161a63df48e"
   },
   "outputs": [
    {
     "data": {
      "text/plain": [
       "PromptTemplate(input_variables=['language', 'topic'], input_types={}, partial_variables={}, template='Explain to me briefly about {topic} in {language}.')"
      ]
     },
     "execution_count": 10,
     "metadata": {},
     "output_type": "execute_result"
    }
   ],
   "source": [
    "# more complex prompt with placeholders\n",
    "prompt = \"\"\"Explain to me briefly about {topic} in {language}.\"\"\"\n",
    "\n",
    "prompt_template = PromptTemplate.from_template(prompt)\n",
    "prompt_template"
   ]
  },
  {
   "cell_type": "code",
   "execution_count": null,
   "metadata": {
    "colab": {
     "base_uri": "https://localhost:8080/"
    },
    "collapsed": true,
    "id": "FyXhUhbapZ7T",
    "jupyter": {
     "outputs_hidden": true
    },
    "outputId": "5df86fd5-c9dd-445d-a597-8169eb2006a6"
   },
   "outputs": [
    {
     "data": {
      "text/plain": [
       "['Explain to me briefly about Generative AI in english.',\n",
       " 'Explain to me briefly about Artificial Intelligence in hindi.',\n",
       " 'Explain to me briefly about Deep Learning in german.']"
      ]
     },
     "execution_count": 11,
     "metadata": {},
     "output_type": "execute_result"
    }
   ],
   "source": [
    "inputs = [(\"Generative AI\", \"english\"),\n",
    "          (\"Artificial Intelligence\", \"hindi\"),\n",
    "          (\"Deep Learning\", \"german\")]\n",
    "\n",
    "prompts = [prompt_template.format(topic=topic, language=language) for topic, language in inputs]\n",
    "prompts"
   ]
  },
  {
   "cell_type": "code",
   "execution_count": null,
   "metadata": {
    "collapsed": true,
    "id": "edPyCf_Aps9Q",
    "jupyter": {
     "outputs_hidden": true
    }
   },
   "outputs": [],
   "source": [
    "# use map to run on multiple prompts in one go\n",
    "responses = chatgpt.map().invoke(prompts)"
   ]
  },
  {
   "cell_type": "code",
   "execution_count": null,
   "metadata": {
    "colab": {
     "base_uri": "https://localhost:8080/"
    },
    "collapsed": true,
    "id": "wZ8cDck4ck_g",
    "jupyter": {
     "outputs_hidden": true
    },
    "outputId": "0d78d17a-e61f-4a58-f75c-6d447fc5214c"
   },
   "outputs": [
    {
     "data": {
      "text/plain": [
       "[AIMessage(content='Generative AI refers to a class of artificial intelligence models that can create new content, such as text, images, music, or even videos, based on the patterns and information they have learned from existing data. These models, like GPT-3 for text or DALL-E for images, use deep learning techniques to understand and generate outputs that resemble human-created content. Generative AI has applications in various fields, including art, entertainment, marketing, and more, enabling innovative solutions and creative possibilities.', additional_kwargs={'refusal': None}, response_metadata={'token_usage': {'completion_tokens': 99, 'prompt_tokens': 18, 'total_tokens': 117, 'completion_tokens_details': {'accepted_prediction_tokens': 0, 'audio_tokens': 0, 'reasoning_tokens': 0, 'rejected_prediction_tokens': 0}, 'prompt_tokens_details': {'audio_tokens': 0, 'cached_tokens': 0}}, 'model_name': 'gpt-4o-mini-2024-07-18', 'system_fingerprint': 'fp_0ba0d124f1', 'finish_reason': 'stop', 'logprobs': None}, id='run-07bf69a4-9b2f-4e50-9188-d2b29b7bfbdb-0', usage_metadata={'input_tokens': 18, 'output_tokens': 99, 'total_tokens': 117, 'input_token_details': {'audio': 0, 'cache_read': 0}, 'output_token_details': {'audio': 0, 'reasoning': 0}}),\n",
       " AIMessage(content='कृत्रिम बुद्धिमत्ता (Artificial Intelligence या AI) एक ऐसी तकनीक है जो मशीनों और कंप्यूटरों को मानव जैसी बुद्धिमत्ता और सोचने की क्षमता प्रदान करती है। इसका उद्देश्य मशीनों को इस तरह से विकसित करना है कि वे डेटा को समझ सकें, सीख सकें, निर्णय ले सकें और समस्याओं को हल कर सकें। \\n\\nAI का उपयोग विभिन्न क्षेत्रों में किया जाता है, जैसे कि स्वास्थ्य सेवा, वित्त, परिवहन, और ग्राहक सेवा। उदाहरण के लिए, चैटबॉट्स, स्वायत्त वाहन, और व्यक्तिगत अनुशंसा प्रणाली सभी AI के उदाहरण हैं। AI तकनीकें मशीन लर्निंग, डीप लर्निंग, और प्राकृतिक भाषा प्रसंस्करण (NLP) जैसी विधियों पर आधारित होती हैं। \\n\\nसंक्षेप में, AI का मुख्य उद्देश्य मानव कार्यों को स्वचालित करना और अधिक कुशल बनाना है।', additional_kwargs={'refusal': None}, response_metadata={'token_usage': {'completion_tokens': 189, 'prompt_tokens': 17, 'total_tokens': 206, 'completion_tokens_details': {'accepted_prediction_tokens': 0, 'audio_tokens': 0, 'reasoning_tokens': 0, 'rejected_prediction_tokens': 0}, 'prompt_tokens_details': {'audio_tokens': 0, 'cached_tokens': 0}}, 'model_name': 'gpt-4o-mini-2024-07-18', 'system_fingerprint': 'fp_0ba0d124f1', 'finish_reason': 'stop', 'logprobs': None}, id='run-15940de4-8626-4642-9abe-e35c5bb18cc3-0', usage_metadata={'input_tokens': 17, 'output_tokens': 189, 'total_tokens': 206, 'input_token_details': {'audio': 0, 'cache_read': 0}, 'output_token_details': {'audio': 0, 'reasoning': 0}}),\n",
       " AIMessage(content='Deep Learning ist ein Teilbereich des maschinellen Lernens, der auf künstlichen neuronalen Netzwerken basiert. Es ermöglicht Computern, aus großen Datenmengen zu lernen und komplexe Muster zu erkennen. Deep Learning wird häufig in Anwendungen wie Bild- und Spracherkennung, natürlicher Sprachverarbeitung und autonomen Fahrzeugen eingesetzt. Durch die Verwendung mehrerer Schichten von Neuronen kann das Modell hierarchische Merkmale aus den Daten extrahieren, was zu einer hohen Genauigkeit bei der Vorhersage und Klassifizierung führt.', additional_kwargs={'refusal': None}, response_metadata={'token_usage': {'completion_tokens': 111, 'prompt_tokens': 17, 'total_tokens': 128, 'completion_tokens_details': {'accepted_prediction_tokens': 0, 'audio_tokens': 0, 'reasoning_tokens': 0, 'rejected_prediction_tokens': 0}, 'prompt_tokens_details': {'audio_tokens': 0, 'cached_tokens': 0}}, 'model_name': 'gpt-4o-mini-2024-07-18', 'system_fingerprint': 'fp_f59a81427f', 'finish_reason': 'stop', 'logprobs': None}, id='run-1c306d48-3555-42c8-b829-cab6d0a0b35f-0', usage_metadata={'input_tokens': 17, 'output_tokens': 111, 'total_tokens': 128, 'input_token_details': {'audio': 0, 'cache_read': 0}, 'output_token_details': {'audio': 0, 'reasoning': 0}})]"
      ]
     },
     "execution_count": 13,
     "metadata": {},
     "output_type": "execute_result"
    }
   ],
   "source": [
    "responses"
   ]
  },
  {
   "cell_type": "code",
   "execution_count": null,
   "metadata": {
    "colab": {
     "base_uri": "https://localhost:8080/"
    },
    "collapsed": true,
    "id": "tRWUf9eTqEMU",
    "jupyter": {
     "outputs_hidden": true
    },
    "outputId": "42467835-6b0e-4622-caf9-35e399e88cd6"
   },
   "outputs": [
    {
     "name": "stdout",
     "output_type": "stream",
     "text": [
      "Generative AI refers to a class of artificial intelligence models that can create new content, such as text, images, music, or even videos, based on the patterns and information they have learned from existing data. These models, like GPT-3 for text or DALL-E for images, use deep learning techniques to understand and generate outputs that resemble human-created content. Generative AI has applications in various fields, including art, entertainment, marketing, and more, enabling innovative solutions and creative possibilities.\n",
      "-----\n",
      "कृत्रिम बुद्धिमत्ता (Artificial Intelligence या AI) एक ऐसी तकनीक है जो मशीनों और कंप्यूटरों को मानव जैसी बुद्धिमत्ता और सोचने की क्षमता प्रदान करती है। इसका उद्देश्य मशीनों को इस तरह से विकसित करना है कि वे डेटा को समझ सकें, सीख सकें, निर्णय ले सकें और समस्याओं को हल कर सकें। \n",
      "\n",
      "AI का उपयोग विभिन्न क्षेत्रों में किया जाता है, जैसे कि स्वास्थ्य सेवा, वित्त, परिवहन, और ग्राहक सेवा। उदाहरण के लिए, चैटबॉट्स, स्वायत्त वाहन, और व्यक्तिगत अनुशंसा प्रणाली सभी AI के उदाहरण हैं। AI तकनीकें मशीन लर्निंग, डीप लर्निंग, और प्राकृतिक भाषा प्रसंस्करण (NLP) जैसी विधियों पर आधारित होती हैं। \n",
      "\n",
      "संक्षेप में, AI का मुख्य उद्देश्य मानव कार्यों को स्वचालित करना और अधिक कुशल बनाना है।\n",
      "-----\n",
      "Deep Learning ist ein Teilbereich des maschinellen Lernens, der auf künstlichen neuronalen Netzwerken basiert. Es ermöglicht Computern, aus großen Datenmengen zu lernen und komplexe Muster zu erkennen. Deep Learning wird häufig in Anwendungen wie Bild- und Spracherkennung, natürlicher Sprachverarbeitung und autonomen Fahrzeugen eingesetzt. Durch die Verwendung mehrerer Schichten von Neuronen kann das Modell hierarchische Merkmale aus den Daten extrahieren, was zu einer hohen Genauigkeit bei der Vorhersage und Klassifizierung führt.\n",
      "-----\n"
     ]
    }
   ],
   "source": [
    "for response in responses:\n",
    "  print(response.content)\n",
    "  print('-----')"
   ]
  },
  {
   "cell_type": "markdown",
   "metadata": {
    "id": "VAGmjR-tqfmV"
   },
   "source": [
    "### ChatPromptTemplate\n",
    "\n",
    "The standard prompt format to [chat models](https://python.langchain.com/v0.1/docs/modules/model_io/chat/) is a list of [chat messages](https://python.langchain.com/v0.1/docs/modules/model_io/chat/message_types/).\n",
    "\n",
    "Each chat message is associated with content, and an additional parameter called `role`. For example, in the OpenAI Chat Completions API, a chat message can be associated with an AI assistant, a human or a system role."
   ]
  },
  {
   "cell_type": "code",
   "execution_count": null,
   "metadata": {
    "colab": {
     "base_uri": "https://localhost:8080/"
    },
    "collapsed": true,
    "id": "tawdWLueqHG6",
    "jupyter": {
     "outputs_hidden": true
    },
    "outputId": "3dd83fa4-e2ac-4eb0-f7b6-2c6f8e989aac"
   },
   "outputs": [
    {
     "data": {
      "text/plain": [
       "ChatPromptTemplate(input_variables=['topic'], input_types={}, partial_variables={}, messages=[HumanMessagePromptTemplate(prompt=PromptTemplate(input_variables=['topic'], input_types={}, partial_variables={}, template='Explain to me briefly about {topic}.'), additional_kwargs={})])"
      ]
     },
     "execution_count": 15,
     "metadata": {},
     "output_type": "execute_result"
    }
   ],
   "source": [
    "# Updated import paths for prompt templates - using simplified paths:\n",
    "from langchain.prompts import ChatPromptTemplate\n",
    "\n",
    "# simple prompt with placeholders\n",
    "prompt = \"\"\"Explain to me briefly about {topic}.\"\"\"\n",
    "\n",
    "chat_template = ChatPromptTemplate.from_template(prompt)\n",
    "chat_template"
   ]
  },
  {
   "cell_type": "code",
   "execution_count": null,
   "metadata": {
    "colab": {
     "base_uri": "https://localhost:8080/"
    },
    "collapsed": true,
    "id": "Hr0sC7xHqxOp",
    "jupyter": {
     "outputs_hidden": true
    },
    "outputId": "69467a00-ece8-4dbf-ffc0-954ae01c4510"
   },
   "outputs": [
    {
     "data": {
      "text/plain": [
       "['Human: Explain to me briefly about mortgage.',\n",
       " 'Human: Explain to me briefly about fractional real estate.',\n",
       " 'Human: Explain to me briefly about commercial real estate.']"
      ]
     },
     "execution_count": 16,
     "metadata": {},
     "output_type": "execute_result"
    }
   ],
   "source": [
    "topics = ['mortgage', 'fractional real estate', 'commercial real estate']\n",
    "prompts = [chat_template.format(topic=topic) for topic in topics]\n",
    "prompts"
   ]
  },
  {
   "cell_type": "code",
   "execution_count": null,
   "metadata": {
    "colab": {
     "base_uri": "https://localhost:8080/"
    },
    "collapsed": true,
    "id": "cU9YObv9rY4P",
    "jupyter": {
     "outputs_hidden": true
    },
    "outputId": "97fe9ad3-2944-431e-9902-7a663ae66d75"
   },
   "outputs": [
    {
     "name": "stdout",
     "output_type": "stream",
     "text": [
      "A mortgage is a type of loan specifically used to purchase real estate. In a mortgage agreement, the borrower receives funds from a lender to buy a home and agrees to repay the loan over a specified period, typically 15 to 30 years. The property itself serves as collateral, meaning if the borrower fails to make payments, the lender can take possession of the property through a process called foreclosure. Mortgages usually involve monthly payments that cover both principal (the amount borrowed) and interest (the cost of borrowing), and they may also include property taxes and insurance.\n",
      "-----\n",
      "Fractional real estate refers to a shared ownership model where multiple investors collectively own a property, allowing them to share the costs and benefits associated with it. Each owner holds a fraction of the property, which entitles them to a proportional share of the income generated (like rental income) and appreciation in value. This model makes real estate investment more accessible, as individuals can invest smaller amounts compared to purchasing an entire property. Fractional ownership is often used for vacation homes, commercial properties, or luxury real estate, and it can be facilitated through various platforms or companies that manage the property and the ownership structure.\n",
      "-----\n",
      "Commercial real estate (CRE) refers to properties that are used for business purposes rather than residential living. This category includes various types of properties, such as office buildings, retail spaces, industrial warehouses, hotels, and multifamily apartment complexes. Investors and businesses typically engage in CRE for income generation through leasing or renting out space, as well as potential appreciation in property value over time. The commercial real estate market is influenced by factors such as location, economic conditions, and market demand, making it a dynamic sector within the broader real estate industry.\n",
      "-----\n"
     ]
    }
   ],
   "source": [
    "responses = chatgpt.map().invoke(prompts)\n",
    "for response in responses:\n",
    "  print(response.content)\n",
    "  print('-----')"
   ]
  },
  {
   "cell_type": "code",
   "execution_count": null,
   "metadata": {
    "colab": {
     "base_uri": "https://localhost:8080/"
    },
    "collapsed": true,
    "id": "8NHhUa48rm_g",
    "jupyter": {
     "outputs_hidden": true
    },
    "outputId": "0ce02334-631a-4533-dad4-3a382da0435d"
   },
   "outputs": [
    {
     "data": {
      "text/plain": [
       "AIMessage(content='A mortgage is a type of loan specifically used to purchase real estate. In a mortgage agreement, the borrower receives funds from a lender to buy a home and agrees to repay the loan over a specified period, typically 15 to 30 years. The property itself serves as collateral, meaning if the borrower fails to make payments, the lender can take possession of the property through a process called foreclosure. Mortgages usually involve monthly payments that cover both principal (the amount borrowed) and interest (the cost of borrowing), and they may also include property taxes and insurance.', additional_kwargs={'refusal': None}, response_metadata={'token_usage': {'completion_tokens': 112, 'prompt_tokens': 16, 'total_tokens': 128, 'completion_tokens_details': {'accepted_prediction_tokens': 0, 'audio_tokens': 0, 'reasoning_tokens': 0, 'rejected_prediction_tokens': 0}, 'prompt_tokens_details': {'audio_tokens': 0, 'cached_tokens': 0}}, 'model_name': 'gpt-4o-mini-2024-07-18', 'system_fingerprint': 'fp_f59a81427f', 'finish_reason': 'stop', 'logprobs': None}, id='run-99b5b102-4b96-4210-8cd3-e4e315b5965d-0', usage_metadata={'input_tokens': 16, 'output_tokens': 112, 'total_tokens': 128, 'input_token_details': {'audio': 0, 'cache_read': 0}, 'output_token_details': {'audio': 0, 'reasoning': 0}})"
      ]
     },
     "execution_count": 18,
     "metadata": {},
     "output_type": "execute_result"
    }
   ],
   "source": [
    "responses[0]"
   ]
  },
  {
   "cell_type": "code",
   "execution_count": null,
   "metadata": {
    "colab": {
     "base_uri": "https://localhost:8080/"
    },
    "collapsed": true,
    "id": "1PSkafcfsme2",
    "jupyter": {
     "outputs_hidden": true
    },
    "outputId": "d15d31fc-c4dd-43ff-a54f-40fd00aa3cba"
   },
   "outputs": [
    {
     "data": {
      "text/plain": [
       "ChatPromptTemplate(input_variables=['user_prompt'], input_types={}, partial_variables={}, messages=[SystemMessagePromptTemplate(prompt=PromptTemplate(input_variables=[], input_types={}, partial_variables={}, template='Act as an expert in real estate and provide brief answers'), additional_kwargs={}), HumanMessagePromptTemplate(prompt=PromptTemplate(input_variables=[], input_types={}, partial_variables={}, template='what is your name?'), additional_kwargs={}), AIMessagePromptTemplate(prompt=PromptTemplate(input_variables=[], input_types={}, partial_variables={}, template='my name is AIBot'), additional_kwargs={}), HumanMessagePromptTemplate(prompt=PromptTemplate(input_variables=['user_prompt'], input_types={}, partial_variables={}, template='{user_prompt}'), additional_kwargs={})])"
      ]
     },
     "execution_count": 19,
     "metadata": {},
     "output_type": "execute_result"
    }
   ],
   "source": [
    "# more complex prompt with a series of messages\n",
    "messages = [\n",
    "        (\"system\", \"Act as an expert in real estate and provide brief answers\"),\n",
    "        (\"human\", \"what is your name?\"),\n",
    "        (\"ai\", \"my name is AIBot\"),\n",
    "        (\"human\", \"{user_prompt}\"),\n",
    "]\n",
    "chat_template = ChatPromptTemplate.from_messages(messages)\n",
    "chat_template"
   ]
  },
  {
   "cell_type": "code",
   "execution_count": null,
   "metadata": {
    "colab": {
     "base_uri": "https://localhost:8080/"
    },
    "collapsed": true,
    "id": "N5ncYrVVtUWU",
    "jupyter": {
     "outputs_hidden": true
    },
    "outputId": "a6eb9f20-19f3-4aca-88e9-6291bc350d97"
   },
   "outputs": [
    {
     "data": {
      "text/plain": [
       "['System: Act as an expert in real estate and provide brief answers\\nHuman: what is your name?\\nAI: my name is AIBot\\nHuman: what is your name?',\n",
       " 'System: Act as an expert in real estate and provide brief answers\\nHuman: what is your name?\\nAI: my name is AIBot\\nHuman: explain commercial real estate to me']"
      ]
     },
     "execution_count": 20,
     "metadata": {},
     "output_type": "execute_result"
    }
   ],
   "source": [
    "text_prompts = [\"what is your name?\",\n",
    "                \"explain commercial real estate to me\"]\n",
    "chat_prompts = [chat_template.format(user_prompt=prompt) for prompt in text_prompts]\n",
    "chat_prompts"
   ]
  },
  {
   "cell_type": "code",
   "execution_count": null,
   "metadata": {
    "colab": {
     "base_uri": "https://localhost:8080/"
    },
    "collapsed": true,
    "id": "vQd1Bk_Td2mM",
    "jupyter": {
     "outputs_hidden": true
    },
    "outputId": "9b1b8375-1a16-432e-d6a2-77f1e023a393"
   },
   "outputs": [
    {
     "name": "stdout",
     "output_type": "stream",
     "text": [
      "System: Act as an expert in real estate and provide brief answers\n",
      "Human: what is your name?\n",
      "AI: my name is AIBot\n",
      "Human: what is your name?\n"
     ]
    }
   ],
   "source": [
    "print(chat_prompts[0])"
   ]
  },
  {
   "cell_type": "code",
   "execution_count": null,
   "metadata": {
    "colab": {
     "base_uri": "https://localhost:8080/"
    },
    "collapsed": true,
    "id": "xQnrzTfj59gv",
    "jupyter": {
     "outputs_hidden": true
    },
    "outputId": "28ac7692-1933-4779-b82d-77e8ac092f8c"
   },
   "outputs": [
    {
     "name": "stdout",
     "output_type": "stream",
     "text": [
      "System: Act as an expert in real estate and provide brief answers\n",
      "Human: what is your name?\n",
      "AI: my name is AIBot\n",
      "Human: explain commercial real estate to me\n"
     ]
    }
   ],
   "source": [
    "print(chat_prompts[1])"
   ]
  },
  {
   "cell_type": "code",
   "execution_count": null,
   "metadata": {
    "colab": {
     "base_uri": "https://localhost:8080/"
    },
    "collapsed": true,
    "id": "73R370WTuAIR",
    "jupyter": {
     "outputs_hidden": true
    },
    "outputId": "add8b521-d274-494b-a28d-54dda747d8a3"
   },
   "outputs": [
    {
     "name": "stdout",
     "output_type": "stream",
     "text": [
      "AI: I am AIBot, your real estate expert. How can I assist you today?\n",
      "-----\n",
      "Commercial real estate (CRE) refers to properties used for business purposes, including office buildings, retail spaces, warehouses, and industrial properties. Unlike residential real estate, which is primarily for living, CRE is intended to generate profit through rental income or capital appreciation. It often involves longer lease terms and can be more complex in terms of financing and management.\n",
      "-----\n"
     ]
    }
   ],
   "source": [
    "responses = chatgpt.map().invoke(chat_prompts)\n",
    "for response in responses:\n",
    "  print(response.content)\n",
    "  print('-----')"
   ]
  },
  {
   "cell_type": "code",
   "execution_count": null,
   "metadata": {
    "colab": {
     "base_uri": "https://localhost:8080/"
    },
    "collapsed": true,
    "id": "qQJP-Q6SuLmV",
    "jupyter": {
     "outputs_hidden": true
    },
    "outputId": "95dff59f-9ed1-4eb8-f25e-27f55db82d70"
   },
   "outputs": [
    {
     "data": {
      "text/plain": [
       "['System: Act as an expert in real estate and provide very detailed answers with examples\\nHuman: what is your name?\\nAI: my name is AIBot\\nHuman: what is your name?',\n",
       " 'System: Act as an expert in real estate and provide very detailed answers with examples\\nHuman: what is your name?\\nAI: my name is AIBot\\nHuman: explain commercial real estate to me']"
      ]
     },
     "execution_count": 24,
     "metadata": {},
     "output_type": "execute_result"
    }
   ],
   "source": [
    "messages = [\n",
    "        (\"system\", \"Act as an expert in real estate and provide very detailed answers with examples\"),\n",
    "        (\"human\", \"what is your name?\"),\n",
    "        (\"ai\", \"my name is AIBot\"),\n",
    "        (\"human\", \"{user_prompt}\"),\n",
    "]\n",
    "chat_template = ChatPromptTemplate.from_messages(messages)\n",
    "text_prompts = [\"what is your name?\", \"explain commercial real estate to me\"]\n",
    "chat_prompts = [chat_template.format(user_prompt=prompt) for prompt in text_prompts]\n",
    "chat_prompts"
   ]
  },
  {
   "cell_type": "code",
   "execution_count": null,
   "metadata": {
    "colab": {
     "base_uri": "https://localhost:8080/"
    },
    "collapsed": true,
    "id": "JK9VxeObuTXj",
    "jupyter": {
     "outputs_hidden": true
    },
    "outputId": "79a981ca-e34b-4897-fa69-7cd97910a275"
   },
   "outputs": [
    {
     "name": "stdout",
     "output_type": "stream",
     "text": [
      "AI: My name is AIBot, and I'm here to assist you with any questions you have about real estate. Whether you're looking for information on buying, selling, investing, or understanding market trends, feel free to ask!\n",
      "-----\n",
      "Commercial real estate (CRE) refers to properties that are used exclusively for business purposes. This category of real estate is distinct from residential real estate, which is primarily used for living purposes. Understanding commercial real estate involves recognizing its various types, investment potential, market dynamics, and the factors that influence its value.\n",
      "\n",
      "### Types of Commercial Real Estate\n",
      "\n",
      "1. **Office Buildings**: These properties are designed for business operations and can range from single-tenant buildings to large skyscrapers. They are often categorized into:\n",
      "   - **Class A**: High-quality buildings in prime locations with top amenities (e.g., high-rise buildings in downtown areas).\n",
      "   - **Class B**: Older buildings that are still functional but may require some renovations.\n",
      "   - **Class C**: Older buildings in less desirable locations, often needing significant repairs.\n",
      "\n",
      "   **Example**: A Class A office building in Manhattan might house a major financial firm, while a Class C office building could be located in a suburban area and rented by a small startup.\n",
      "\n",
      "2. **Retail Properties**: These include shopping centers, malls, and standalone stores. Retail properties can be further divided into:\n",
      "   - **Neighborhood Centers**: Small shopping areas that serve local communities.\n",
      "   - **Regional Malls**: Larger shopping complexes that attract customers from a wider area.\n",
      "   - **Power Centers**: Large retail spaces that typically include big-box retailers.\n",
      "\n",
      "   **Example**: A neighborhood center might include a grocery store, a pharmacy, and a few local restaurants, while a regional mall could feature multiple department stores and specialty shops.\n",
      "\n",
      "3. **Industrial Properties**: These are used for manufacturing, production, distribution, and storage. Types include:\n",
      "   - **Warehouses**: Large spaces for storing goods.\n",
      "   - **Manufacturing Facilities**: Buildings where products are made.\n",
      "   - **Flex Spaces**: Versatile spaces that can be used for both office and industrial purposes.\n",
      "\n",
      "   **Example**: A warehouse in an industrial park might be used by an e-commerce company for inventory storage and distribution.\n",
      "\n",
      "4. **Multifamily Properties**: While often considered residential, multifamily properties with five or more units are classified as commercial real estate. This includes:\n",
      "   - **Apartments**: Buildings with multiple rental units.\n",
      "   - **Condominiums**: Individually owned units within a larger building.\n",
      "\n",
      "   **Example**: A 100-unit apartment complex in a growing urban area can be a lucrative investment for real estate investors.\n",
      "\n",
      "5. **Hospitality Properties**: This category includes hotels, motels, and resorts. These properties cater to travelers and can vary widely in size and service level.\n",
      "   \n",
      "   **Example**: A luxury hotel in a tourist destination may offer high-end amenities, while a budget motel on a highway caters to road travelers.\n",
      "\n",
      "6. **Special Purpose Properties**: These are unique properties that serve specific functions, such as schools, churches, and medical facilities.\n",
      "\n",
      "   **Example**: A medical office building that houses a group of doctors and specialists.\n",
      "\n",
      "### Investment Potential\n",
      "\n",
      "Investing in commercial real estate can provide several benefits, including:\n",
      "\n",
      "- **Cash Flow**: Commercial properties often generate higher rental income compared to residential properties. For instance, a well-located retail space can command significant rent from established tenants.\n",
      "  \n",
      "- **Longer Lease Terms**: Commercial leases typically last longer than residential leases, often ranging from 3 to 10 years, providing more stability in income.\n",
      "\n",
      "- **Appreciation**: Over time, commercial properties can appreciate in value, especially in growing markets. For example, a warehouse in a developing industrial area may increase in value as demand for logistics space rises.\n",
      "\n",
      "- **Tax Benefits**: Investors can benefit from various tax deductions, including depreciation, mortgage interest, and operating expenses.\n",
      "\n",
      "### Market Dynamics\n",
      "\n",
      "The commercial real estate market is influenced by various factors, including:\n",
      "\n",
      "- **Economic Conditions**: Economic growth can lead to increased demand for office and retail space, while recessions may result in higher vacancy rates.\n",
      "\n",
      "- **Location**: Properties in prime locations tend to attract higher rents and have lower vacancy rates. For example, a retail store in a busy shopping district will likely perform better than one in a less-trafficked area.\n",
      "\n",
      "- **Interest Rates**: Changes in interest rates can affect financing costs and, consequently, the demand for commercial properties. Lower interest rates can stimulate investment, while higher rates may deter it.\n",
      "\n",
      "- **Market Trends**: Trends such as remote work can impact office space demand, while e-commerce growth can influence the need for industrial properties.\n",
      "\n",
      "### Conclusion\n",
      "\n",
      "Commercial real estate is a diverse and dynamic sector that offers various opportunities for investors and businesses. Understanding the different types of properties, their investment potential, and the market dynamics is crucial for making informed decisions in this field. Whether you are looking to invest, lease, or develop commercial properties, a thorough understanding of these elements will help you navigate the complexities of the commercial real estate market effectively.\n",
      "-----\n"
     ]
    }
   ],
   "source": [
    "responses = chatgpt.map().invoke(chat_prompts)\n",
    "for response in responses:\n",
    "  print(response.content)\n",
    "  print('-----')"
   ]
  },
  {
   "cell_type": "markdown",
   "metadata": {
    "id": "7PnxbHHoiDHZ"
   },
   "source": [
    "#### PromptTemplate and ChatPromptTemplate supports LCEL\n",
    "\n",
    "`PromptTemplate` and `ChatPromptTemplate` implement the [Runnable interface](https://python.langchain.com/v0.1/docs/expression_language/interface/), the basic building block of the LangChain Expression Language (LCEL). This means they support `invoke`, `ainvoke`, `stream`, `astream`, `batch`, `abatch`, `astream_log` calls.\n",
    "\n",
    "`PromptTemplate` accepts a dictionary (of the prompt variables) and returns a `StringPromptValue`. A `ChatPromptTemplate` accepts a dictionary and returns a `ChatPromptValue`."
   ]
  },
  {
   "cell_type": "code",
   "execution_count": null,
   "metadata": {
    "colab": {
     "base_uri": "https://localhost:8080/"
    },
    "collapsed": true,
    "id": "Qxsx7a0xe2u6",
    "jupyter": {
     "outputs_hidden": true
    },
    "outputId": "b5c3d28d-55fa-488f-eb9f-159acd710cc1"
   },
   "outputs": [
    {
     "data": {
      "text/plain": [
       "[ChatPromptValue(messages=[SystemMessage(content='Act as an expert in real estate and provide very detailed answers with examples', additional_kwargs={}, response_metadata={}), HumanMessage(content='what is your name?', additional_kwargs={}, response_metadata={}), AIMessage(content='my name is AIBot', additional_kwargs={}, response_metadata={}), HumanMessage(content='what is your name?', additional_kwargs={}, response_metadata={})]),\n",
       " ChatPromptValue(messages=[SystemMessage(content='Act as an expert in real estate and provide very detailed answers with examples', additional_kwargs={}, response_metadata={}), HumanMessage(content='what is your name?', additional_kwargs={}, response_metadata={}), AIMessage(content='my name is AIBot', additional_kwargs={}, response_metadata={}), HumanMessage(content='explain commercial real estate to me', additional_kwargs={}, response_metadata={})])]"
      ]
     },
     "execution_count": 26,
     "metadata": {},
     "output_type": "execute_result"
    }
   ],
   "source": [
    "text_prompts = [\"what is your name?\", \"explain commercial real estate to me\"]\n",
    "chat_prompts = [chat_template.invoke({'user_prompt' : prompt}) for prompt in text_prompts]\n",
    "chat_prompts"
   ]
  },
  {
   "cell_type": "code",
   "execution_count": null,
   "metadata": {
    "colab": {
     "base_uri": "https://localhost:8080/"
    },
    "collapsed": true,
    "id": "tCqy3Exuiuu0",
    "jupyter": {
     "outputs_hidden": true
    },
    "outputId": "5dc1990e-cef5-4738-8675-7d34134bb229"
   },
   "outputs": [
    {
     "data": {
      "text/plain": [
       "ChatPromptValue(messages=[SystemMessage(content='Act as an expert in real estate and provide very detailed answers with examples', additional_kwargs={}, response_metadata={}), HumanMessage(content='what is your name?', additional_kwargs={}, response_metadata={}), AIMessage(content='my name is AIBot', additional_kwargs={}, response_metadata={}), HumanMessage(content='explain commercial real estate to me', additional_kwargs={}, response_metadata={})])"
      ]
     },
     "execution_count": 27,
     "metadata": {},
     "output_type": "execute_result"
    }
   ],
   "source": [
    "chat_prompts[1]"
   ]
  },
  {
   "cell_type": "code",
   "execution_count": null,
   "metadata": {
    "colab": {
     "base_uri": "https://localhost:8080/"
    },
    "collapsed": true,
    "id": "wND5o7kCiyKG",
    "jupyter": {
     "outputs_hidden": true
    },
    "outputId": "4e251c6a-2391-4ab4-ec5d-766b603e51e7"
   },
   "outputs": [
    {
     "name": "stdout",
     "output_type": "stream",
     "text": [
      "System: Act as an expert in real estate and provide very detailed answers with examples\n",
      "Human: what is your name?\n",
      "AI: my name is AIBot\n",
      "Human: explain commercial real estate to me\n"
     ]
    }
   ],
   "source": [
    "print(chat_prompts[1].to_string())"
   ]
  },
  {
   "cell_type": "code",
   "execution_count": null,
   "metadata": {
    "colab": {
     "base_uri": "https://localhost:8080/"
    },
    "collapsed": true,
    "id": "egsNrmqui6ls",
    "jupyter": {
     "outputs_hidden": true
    },
    "outputId": "e7b24f79-0eda-443f-e5ce-3ee370db9f99"
   },
   "outputs": [
    {
     "data": {
      "text/plain": [
       "[SystemMessage(content='Act as an expert in real estate and provide very detailed answers with examples', additional_kwargs={}, response_metadata={}),\n",
       " HumanMessage(content='what is your name?', additional_kwargs={}, response_metadata={}),\n",
       " AIMessage(content='my name is AIBot', additional_kwargs={}, response_metadata={}),\n",
       " HumanMessage(content='explain commercial real estate to me', additional_kwargs={}, response_metadata={})]"
      ]
     },
     "execution_count": 29,
     "metadata": {},
     "output_type": "execute_result"
    }
   ],
   "source": [
    "chat_prompts[1].to_messages()"
   ]
  },
  {
   "cell_type": "code",
   "execution_count": null,
   "metadata": {
    "colab": {
     "base_uri": "https://localhost:8080/"
    },
    "collapsed": true,
    "id": "r_ywweDLflCq",
    "jupyter": {
     "outputs_hidden": true
    },
    "outputId": "e97c0372-2dd1-498a-8852-9cee2b6a5470"
   },
   "outputs": [
    {
     "name": "stdout",
     "output_type": "stream",
     "text": [
      "I am known as AIBot. How can I assist you with your real estate inquiries today?\n",
      "-----\n",
      "Commercial real estate (CRE) refers to properties that are used exclusively for business purposes or to provide a workspace rather than as a residence. This sector of real estate encompasses a wide range of property types, each serving different functions and catering to various industries. Here’s a detailed breakdown of commercial real estate, including its types, investment considerations, and examples.\n",
      "\n",
      "### Types of Commercial Real Estate\n",
      "\n",
      "1. **Office Buildings**: \n",
      "   - **Description**: These properties are designed for business operations and can range from single-tenant buildings to multi-tenant skyscrapers.\n",
      "   - **Examples**: Corporate headquarters, co-working spaces, and medical office buildings.\n",
      "   - **Investment Considerations**: Location, tenant mix, lease terms, and building amenities are crucial factors. For instance, a well-located office building in a metropolitan area may attract higher rents.\n",
      "\n",
      "2. **Retail Properties**: \n",
      "   - **Description**: These include spaces where goods and services are sold directly to consumers.\n",
      "   - **Examples**: Shopping malls, strip malls, standalone retail stores, and restaurants.\n",
      "   - **Investment Considerations**: Foot traffic, visibility, and proximity to residential areas are key. For example, a retail store in a high-traffic area may generate more sales, making it a more attractive investment.\n",
      "\n",
      "3. **Industrial Properties**: \n",
      "   - **Description**: These properties are used for manufacturing, production, distribution, and storage.\n",
      "   - **Examples**: Warehouses, distribution centers, and manufacturing plants.\n",
      "   - **Investment Considerations**: Location relative to transportation networks (highways, railroads, ports) and the type of industrial activity (light vs. heavy manufacturing) are important. For instance, a warehouse near a major highway can facilitate faster distribution.\n",
      "\n",
      "4. **Multifamily Properties**: \n",
      "   - **Description**: While often considered residential, multifamily properties with five or more units are classified as commercial real estate.\n",
      "   - **Examples**: Apartment complexes, condominiums, and townhouses.\n",
      "   - **Investment Considerations**: Market demand, occupancy rates, and rental income potential are critical. For example, a well-managed apartment complex in a growing urban area may yield strong returns.\n",
      "\n",
      "5. **Hospitality Properties**: \n",
      "   - **Description**: These include establishments that provide lodging, food, and other services to travelers and tourists.\n",
      "   - **Examples**: Hotels, motels, and resorts.\n",
      "   - **Investment Considerations**: Location, brand affiliation, and occupancy rates are vital. A hotel in a tourist-heavy area may experience higher occupancy and room rates.\n",
      "\n",
      "6. **Special Purpose Properties**: \n",
      "   - **Description**: These are properties designed for a specific use and may not fit into the other categories.\n",
      "   - **Examples**: Schools, churches, self-storage facilities, and gas stations.\n",
      "   - **Investment Considerations**: Zoning regulations and the specific needs of the property type are important. For instance, a self-storage facility in a densely populated area may have high demand.\n",
      "\n",
      "### Investment Considerations in Commercial Real Estate\n",
      "\n",
      "1. **Location**: The adage \"location, location, location\" holds true in commercial real estate. Properties in prime locations tend to attract higher rents and have lower vacancy rates.\n",
      "\n",
      "2. **Market Trends**: Understanding local and national market trends is crucial. For example, the rise of e-commerce has increased demand for industrial properties like warehouses, while traditional retail spaces may face challenges.\n",
      "\n",
      "3. **Financing**: Commercial real estate often requires different financing structures compared to residential properties. Investors may use commercial mortgages, which typically have shorter terms and higher interest rates.\n",
      "\n",
      "4. **Lease Structures**: Commercial leases can vary significantly. Common types include:\n",
      "   - **Gross Lease**: The landlord covers all operating expenses.\n",
      "   - **Net Lease**: The tenant pays a portion of the operating expenses in addition to rent.\n",
      "   - **Percentage Lease**: Rent is based on a percentage of the tenant's sales, common in retail.\n",
      "\n",
      "5. **Due Diligence**: Before purchasing commercial real estate, investors should conduct thorough due diligence, including property inspections, financial analysis, and market research.\n",
      "\n",
      "### Example of a Commercial Real Estate Investment\n",
      "\n",
      "Consider an investor looking to purchase a small retail strip mall. The investor would analyze the following:\n",
      "\n",
      "- **Location**: The strip mall is located in a growing suburban area with increasing population density.\n",
      "- **Tenant Mix**: The mall has a mix of tenants, including a grocery store, a coffee shop, and a fitness center, which can attract diverse customer traffic.\n",
      "- **Financials**: The investor reviews the current lease agreements, tenant payment histories, and operating expenses to assess cash flow potential.\n",
      "- **Market Trends**: The investor researches local economic conditions, such as employment rates and consumer spending trends, to gauge future demand.\n",
      "\n",
      "By carefully evaluating these factors, the investor can make an informed decision about the potential profitability of the retail strip mall.\n",
      "\n",
      "In summary, commercial real estate is a diverse and complex sector that offers various investment opportunities. Understanding the different types of properties, market dynamics, and financial considerations is essential for success in this field.\n",
      "-----\n"
     ]
    }
   ],
   "source": [
    "responses = chatgpt.map().invoke(chat_prompts)\n",
    "for response in responses:\n",
    "  print(response.content)\n",
    "  print('-----')"
   ]
  }
 ],
 "metadata": {
  "colab": {
   "provenance": []
  },
  "kernelspec": {
   "display_name": "Python 3 (ipykernel)",
   "language": "python",
   "name": "python3"
  },
  "language_info": {
   "codemirror_mode": {
    "name": "ipython",
    "version": 3
   },
   "file_extension": ".py",
   "mimetype": "text/x-python",
   "name": "python",
   "nbconvert_exporter": "python",
   "pygments_lexer": "ipython3",
   "version": "3.8.10"
  }
 },
 "nbformat": 4,
 "nbformat_minor": 4
}
